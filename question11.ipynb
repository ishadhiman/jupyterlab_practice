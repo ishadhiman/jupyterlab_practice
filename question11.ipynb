{
 "cells": [
  {
   "cell_type": "markdown",
   "id": "7c1b8cad-8ac1-4806-b111-ca0b19d141c2",
   "metadata": {},
   "source": [
    "# Isha Dhiman\n",
    "### Notebook for Assignment 7"
   ]
  },
  {
   "cell_type": "code",
   "execution_count": 16,
   "id": "f2d63b51-fde3-4d89-bf63-5ad068da8767",
   "metadata": {},
   "outputs": [
    {
     "data": {
      "text/plain": [
       "5.0"
      ]
     },
     "execution_count": 16,
     "metadata": {},
     "output_type": "execute_result"
    }
   ],
   "source": [
    "# creating function to compute the mean\n",
    "def compute_mean(list):\n",
    "    \"\"\" This function is created to compute the mean of a given array of numbers\n",
    "    -----\n",
    "    Parameters\n",
    "    list: this is the list of numerical objects whose sum needs to be computed\n",
    "    -----\n",
    "    Returns\n",
    "    mean of the elements in the list\n",
    "    -----\n",
    "    Example\n",
    "    >>> compute_mean([1,2,3])\n",
    "    >>> 2\n",
    "    \"\"\"\n",
    "    s=sum(list)\n",
    "    mean=s/len(list)\n",
    "    return mean\n",
    "compute_mean([2,4,6,8])\n",
    "    "
   ]
  },
  {
   "cell_type": "markdown",
   "id": "6b17b0fa-d3e0-4882-bab1-dcc05347ea78",
   "metadata": {},
   "source": [
    "#### Explanation of the function compute_mean\n",
    "\n",
    "The function created above computes the arithmetic mean of a given list of numbers. \n",
    "\n",
    "Let us understand the mathematics behind arithmetic mean.\n",
    "\n",
    "Suppose we have $n$ numbers denoted by $x_1$, $x_2$, ..... $x_n$. The arithmetic mean, denoted by $\\overline x$, is computed by the following formula.\n",
    "\n",
    "$$\n",
    " \\begin{equation}\n",
    " \\overline x=\\frac{x_1+x_2+.......+x_n}{n}=\\frac{1}{n}\\bigg(\\sum_{i=1}^n x_i\\bigg)\n",
    " \\end{equation}\n",
    "$$"
   ]
  },
  {
   "cell_type": "code",
   "execution_count": null,
   "id": "41bc1060-de66-49fc-986e-0c26ad29f1ec",
   "metadata": {},
   "outputs": [],
   "source": []
  }
 ],
 "metadata": {
  "kernelspec": {
   "display_name": "Python 3 (ipykernel)",
   "language": "python",
   "name": "python3"
  },
  "language_info": {
   "codemirror_mode": {
    "name": "ipython",
    "version": 3
   },
   "file_extension": ".py",
   "mimetype": "text/x-python",
   "name": "python",
   "nbconvert_exporter": "python",
   "pygments_lexer": "ipython3",
   "version": "3.10.9"
  }
 },
 "nbformat": 4,
 "nbformat_minor": 5
}
